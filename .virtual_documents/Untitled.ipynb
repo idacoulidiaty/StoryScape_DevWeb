liste1 = ['rrr', 'vb', 'vdqjfnb']
liste2 = [8, 123, 555]

for mot, nbre in zip(liste1, liste2):
    print(mot, nbre)
