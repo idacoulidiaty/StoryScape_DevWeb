{
 "cells": [
  {
   "cell_type": "code",
   "execution_count": 1,
   "id": "90fc9f9b-463b-462a-800f-bc5d063e74d3",
   "metadata": {},
   "outputs": [
    {
     "name": "stdout",
     "output_type": "stream",
     "text": [
      "rrr 8\n",
      "vb 123\n",
      "vdqjfnb 555\n"
     ]
    }
   ],
   "source": [
    "liste1 = ['rrr', 'vb', 'vdqjfnb']\n",
    "liste2 = [8, 123, 555]\n",
    "\n",
    "for mot, nbre in zip(liste1, liste2):\n",
    "    print(mot, nbre)"
   ]
  }
 ],
 "metadata": {
  "kernelspec": {
   "display_name": "Python 3 (ipykernel)",
   "language": "python",
   "name": "python3"
  },
  "language_info": {
   "codemirror_mode": {
    "name": "ipython",
    "version": 3
   },
   "file_extension": ".py",
   "mimetype": "text/x-python",
   "name": "python",
   "nbconvert_exporter": "python",
   "pygments_lexer": "ipython3",
   "version": "3.11.7"
  }
 },
 "nbformat": 4,
 "nbformat_minor": 5
}
